{
 "cells": [
  {
   "cell_type": "markdown",
   "metadata": {},
   "source": [
    "### ЛР4 Голубев Сергей ИУ5-65Б"
   ]
  },
  {
   "cell_type": "code",
   "execution_count": 1,
   "metadata": {},
   "outputs": [],
   "source": [
    "import numpy as np\n",
    "import pandas as pd\n",
    "from typing import Dict, Tuple\n",
    "import seaborn as sns\n",
    "import matplotlib.pyplot as plt\n",
    "%matplotlib inline\n",
    "from sklearn.impute import SimpleImputer\n",
    "import warnings\n",
    "from sklearn.pipeline import Pipeline\n",
    "from sklearn.preprocessing import PolynomialFeatures\n",
    "from sklearn.metrics import confusion_matrix, precision_score, recall_score, f1_score, classification_report\n",
    "from sklearn.linear_model import LinearRegression\n",
    "warnings.simplefilter(\"ignore\")"
   ]
  },
  {
   "cell_type": "code",
   "execution_count": 2,
   "metadata": {},
   "outputs": [
    {
     "data": {
      "text/html": [
       "<div>\n",
       "<style scoped>\n",
       "    .dataframe tbody tr th:only-of-type {\n",
       "        vertical-align: middle;\n",
       "    }\n",
       "\n",
       "    .dataframe tbody tr th {\n",
       "        vertical-align: top;\n",
       "    }\n",
       "\n",
       "    .dataframe thead th {\n",
       "        text-align: right;\n",
       "    }\n",
       "</style>\n",
       "<table border=\"1\" class=\"dataframe\">\n",
       "  <thead>\n",
       "    <tr style=\"text-align: right;\">\n",
       "      <th></th>\n",
       "      <th>Pregnancies</th>\n",
       "      <th>Glucose</th>\n",
       "      <th>BloodPressure</th>\n",
       "      <th>SkinThickness</th>\n",
       "      <th>Insulin</th>\n",
       "      <th>BMI</th>\n",
       "      <th>DiabetesPedigreeFunction</th>\n",
       "      <th>Age</th>\n",
       "      <th>Outcome</th>\n",
       "    </tr>\n",
       "  </thead>\n",
       "  <tbody>\n",
       "    <tr>\n",
       "      <th>0</th>\n",
       "      <td>6</td>\n",
       "      <td>148</td>\n",
       "      <td>72</td>\n",
       "      <td>35</td>\n",
       "      <td>0</td>\n",
       "      <td>33.6</td>\n",
       "      <td>0.627</td>\n",
       "      <td>50</td>\n",
       "      <td>1</td>\n",
       "    </tr>\n",
       "    <tr>\n",
       "      <th>1</th>\n",
       "      <td>1</td>\n",
       "      <td>85</td>\n",
       "      <td>66</td>\n",
       "      <td>29</td>\n",
       "      <td>0</td>\n",
       "      <td>26.6</td>\n",
       "      <td>0.351</td>\n",
       "      <td>31</td>\n",
       "      <td>0</td>\n",
       "    </tr>\n",
       "    <tr>\n",
       "      <th>2</th>\n",
       "      <td>8</td>\n",
       "      <td>183</td>\n",
       "      <td>64</td>\n",
       "      <td>0</td>\n",
       "      <td>0</td>\n",
       "      <td>23.3</td>\n",
       "      <td>0.672</td>\n",
       "      <td>32</td>\n",
       "      <td>1</td>\n",
       "    </tr>\n",
       "    <tr>\n",
       "      <th>3</th>\n",
       "      <td>1</td>\n",
       "      <td>89</td>\n",
       "      <td>66</td>\n",
       "      <td>23</td>\n",
       "      <td>94</td>\n",
       "      <td>28.1</td>\n",
       "      <td>0.167</td>\n",
       "      <td>21</td>\n",
       "      <td>0</td>\n",
       "    </tr>\n",
       "    <tr>\n",
       "      <th>4</th>\n",
       "      <td>0</td>\n",
       "      <td>137</td>\n",
       "      <td>40</td>\n",
       "      <td>35</td>\n",
       "      <td>168</td>\n",
       "      <td>43.1</td>\n",
       "      <td>2.288</td>\n",
       "      <td>33</td>\n",
       "      <td>1</td>\n",
       "    </tr>\n",
       "  </tbody>\n",
       "</table>\n",
       "</div>"
      ],
      "text/plain": [
       "   Pregnancies  Glucose  BloodPressure  SkinThickness  Insulin   BMI  \\\n",
       "0            6      148             72             35        0  33.6   \n",
       "1            1       85             66             29        0  26.6   \n",
       "2            8      183             64              0        0  23.3   \n",
       "3            1       89             66             23       94  28.1   \n",
       "4            0      137             40             35      168  43.1   \n",
       "\n",
       "   DiabetesPedigreeFunction  Age  Outcome  \n",
       "0                     0.627   50        1  \n",
       "1                     0.351   31        0  \n",
       "2                     0.672   32        1  \n",
       "3                     0.167   21        0  \n",
       "4                     2.288   33        1  "
      ]
     },
     "execution_count": 2,
     "metadata": {},
     "output_type": "execute_result"
    }
   ],
   "source": [
    "# чтение обучающей выборки\n",
    "data = pd.read_csv('diabetes.csv')\n",
    "data.head()"
   ]
  },
  {
   "cell_type": "code",
   "execution_count": 3,
   "metadata": {},
   "outputs": [],
   "source": [
    "from sklearn.model_selection import train_test_split\n",
    "from sklearn.preprocessing import LabelEncoder"
   ]
  },
  {
   "cell_type": "code",
   "execution_count": 4,
   "metadata": {},
   "outputs": [
    {
     "data": {
      "text/plain": [
       "<AxesSubplot:>"
      ]
     },
     "execution_count": 4,
     "metadata": {},
     "output_type": "execute_result"
    },
    {
     "data": {
      "image/png": "[encoded data removed]",
      "text/plain": [
       "<Figure size 1080x504 with 2 Axes>"
      ]
     },
     "metadata": {
      "needs_background": "light"
     },
     "output_type": "display_data"
    }
   ],
   "source": [
    "#Построим корреляционную матрицу\n",
    "fig, ax = plt.subplots(figsize=(15,7))\n",
    "sns.heatmap(data.corr(method='pearson'), ax=ax, annot=True, fmt='.2f')"
   ]
  },
  {
   "cell_type": "code",
   "execution_count": 5,
   "metadata": {},
   "outputs": [
    {
     "name": "stdout",
     "output_type": "stream",
     "text": [
      "Входные данные:\n",
      "\n",
      "    Age  Outcome\n",
      "0   50        1\n",
      "1   31        0\n",
      "2   32        1\n",
      "3   21        0\n",
      "4   33        1 \n",
      "\n",
      "Выходные данные:\n",
      "\n",
      " 0    6\n",
      "1    1\n",
      "2    8\n",
      "3    1\n",
      "4    0\n",
      "Name: Pregnancies, dtype: int64\n"
     ]
    }
   ],
   "source": [
    "X = data[[\"Age\",\"Outcome\"]]\n",
    "Y = data.Pregnancies\n",
    "print('Входные данные:\\n\\n', X.head(), '\\n\\nВыходные данные:\\n\\n', Y.head())"
   ]
  },
  {
   "cell_type": "code",
   "execution_count": 6,
   "metadata": {},
   "outputs": [
    {
     "name": "stdout",
     "output_type": "stream",
     "text": [
      "Входные параметры обучающей выборки:\n",
      "\n",
      "      Age  Outcome\n",
      "499   39        0\n",
      "720   34        0\n",
      "556   30        0\n",
      "583   42        0\n",
      "150   24        0 \n",
      "\n",
      "Входные параметры тестовой выборки:\n",
      "\n",
      "      Age  Outcome\n",
      "661   22        1\n",
      "122   23        0\n",
      "113   25        0\n",
      "14    51        1\n",
      "529   31        0 \n",
      "\n",
      "Выходные параметры обучающей выборки:\n",
      "\n",
      " 499    6\n",
      "720    4\n",
      "556    1\n",
      "583    8\n",
      "150    1\n",
      "Name: Pregnancies, dtype: int64 \n",
      "\n",
      "Выходные параметры тестовой выборки:\n",
      "\n",
      " 661    1\n",
      "122    2\n",
      "113    4\n",
      "14     5\n",
      "529    0\n",
      "Name: Pregnancies, dtype: int64\n"
     ]
    }
   ],
   "source": [
    "X_train,  X_test,  Y_train,  Y_test = train_test_split(X,  Y, random_state = 0, test_size = 0.1)\n",
    "print('Входные параметры обучающей выборки:\\n\\n',X_train.head(), \\\n",
    "      '\\n\\nВходные параметры тестовой выборки:\\n\\n', X_test.head(), \\\n",
    "      '\\n\\nВыходные параметры обучающей выборки:\\n\\n', Y_train.head(), \\\n",
    "      '\\n\\nВыходные параметры тестовой выборки:\\n\\n', Y_test.head())"
   ]
  },
  {
   "cell_type": "code",
   "execution_count": 7,
   "metadata": {},
   "outputs": [],
   "source": [
    "from sklearn.linear_model import LinearRegression\n",
    "from sklearn.metrics import mean_absolute_error, mean_squared_error,  median_absolute_error, r2_score "
   ]
  },
  {
   "cell_type": "code",
   "execution_count": 8,
   "metadata": {},
   "outputs": [],
   "source": [
    "Lin_Reg = LinearRegression().fit(X_train, Y_train)\n",
    "\n",
    "lr_y_pred = Lin_Reg.predict(X_test)"
   ]
  },
  {
   "cell_type": "code",
   "execution_count": 9,
   "metadata": {},
   "outputs": [
    {
     "data": {
      "image/png": "[encoded data removed]",
      "text/plain": [
       "<Figure size 432x288 with 1 Axes>"
      ]
     },
     "metadata": {
      "needs_background": "light"
     },
     "output_type": "display_data"
    }
   ],
   "source": [
    "plt.scatter(X_test.Age, Y_test,    marker = 's', label = 'Тестовая выборка')\n",
    "plt.scatter(X_test.Age, lr_y_pred, marker = 'o', label = 'Предсказанные данные')\n",
    "plt.legend (loc = 'lower right')\n",
    "plt.xlabel ('sex')\n",
    "plt.ylabel ('age')\n",
    "plt.show()"
   ]
  },
  {
   "cell_type": "markdown",
   "metadata": {},
   "source": [
    "### SVM"
   ]
  },
  {
   "cell_type": "code",
   "execution_count": 10,
   "metadata": {},
   "outputs": [],
   "source": [
    "from sklearn.svm import SVC , LinearSVC\n",
    "from sklearn.datasets.samples_generator import make_blobs\n",
    "from matplotlib import pyplot as plt"
   ]
  },
  {
   "cell_type": "code",
   "execution_count": 11,
   "metadata": {},
   "outputs": [
    {
     "data": {
      "text/plain": [
       "<matplotlib.collections.PathCollection at 0x7fe3747b58b0>"
      ]
     },
     "execution_count": 11,
     "metadata": {},
     "output_type": "execute_result"
    },
    {
     "data": {
      "image/png": "[encoded data removed]",
      "text/plain": [
       "<Figure size 432x288 with 1 Axes>"
      ]
     },
     "metadata": {
      "needs_background": "light"
     },
     "output_type": "display_data"
    }
   ],
   "source": [
    "X , y = make_blobs(n_samples=125, centers=2, cluster_std=0.6, random_state=0)\n",
    "# колич, кол кластеров, станд откл, \n",
    "\n",
    "train_X, test_X, train_y, test_y = train_test_split(X, y, test_size=40, random_state=0)\n",
    "\n",
    "plt.scatter(train_X[:, 0], train_X[:, 1], c=train_y, cmap='winter')"
   ]
  },
  {
   "cell_type": "code",
   "execution_count": 12,
   "metadata": {},
   "outputs": [
    {
     "data": {
      "text/plain": [
       "SVC(kernel='linear')"
      ]
     },
     "execution_count": 12,
     "metadata": {},
     "output_type": "execute_result"
    }
   ],
   "source": [
    "svc = SVC(kernel='linear')\n",
    "svc.fit(train_X,train_y)"
   ]
  },
  {
   "cell_type": "code",
   "execution_count": 13,
   "metadata": {},
   "outputs": [
    {
     "data": {
      "text/plain": [
       "[<matplotlib.lines.Line2D at 0x7fe3752b8b50>]"
      ]
     },
     "execution_count": 13,
     "metadata": {},
     "output_type": "execute_result"
    },
    {
     "data": {
      "image/png": "[encoded data removed]",
      "text/plain": [
       "<Figure size 432x288 with 1 Axes>"
      ]
     },
     "metadata": {
      "needs_background": "light"
     },
     "output_type": "display_data"
    }
   ],
   "source": [
    "plt.scatter(train_X[:, 0], train_X[:, 1], c=train_y, cmap='winter')\n",
    "\n",
    "ax=plt.gca()\n",
    "xlim=ax.get_xlim()\n",
    "    \n",
    "ax.scatter(test_X[:, 0], test_X[:, 1], c=test_y, cmap='winter', marker='s')\n",
    "\n",
    "w= svc.coef_[0]\n",
    "a= -w[0]/w[1]\n",
    "xx=np.linspace(xlim[0], xlim[1])\n",
    "yy= a * xx - (svc.intercept_[0]/ w[1])\n",
    "plt.plot(xx, yy)"
   ]
  },
  {
   "cell_type": "code",
   "execution_count": 14,
   "metadata": {},
   "outputs": [],
   "source": [
    "pred_y = svc.predict(test_X)"
   ]
  },
  {
   "cell_type": "code",
   "execution_count": 15,
   "metadata": {},
   "outputs": [
    {
     "data": {
      "text/plain": [
       "array([[21,  0],\n",
       "       [ 0, 19]])"
      ]
     },
     "execution_count": 15,
     "metadata": {},
     "output_type": "execute_result"
    }
   ],
   "source": [
    "confusion_matrix(test_y, pred_y)"
   ]
  },
  {
   "cell_type": "markdown",
   "metadata": {},
   "source": [
    "### Tree"
   ]
  },
  {
   "cell_type": "code",
   "execution_count": 16,
   "metadata": {},
   "outputs": [],
   "source": [
    "from sklearn.tree import DecisionTreeClassifier, DecisionTreeRegressor, export_graphviz\n",
    "from sklearn.tree import export_graphviz\n",
    "from sklearn import tree\n",
    "import re"
   ]
  },
  {
   "cell_type": "code",
   "execution_count": 17,
   "metadata": {},
   "outputs": [
    {
     "name": "stdout",
     "output_type": "stream",
     "text": [
      "Входные данные:\n",
      "\n",
      "    Age  Outcome\n",
      "0   50        1\n",
      "1   31        0\n",
      "2   32        1\n",
      "3   21        0\n",
      "4   33        1 \n",
      "\n",
      "Выходные данные:\n",
      "\n",
      " 0    6\n",
      "1    1\n",
      "2    8\n",
      "3    1\n",
      "4    0\n",
      "Name: Pregnancies, dtype: int64\n"
     ]
    }
   ],
   "source": [
    "X = data[[\"Age\",\"Outcome\"]]\n",
    "Y = data.Pregnancies\n",
    "print('Входные данные:\\n\\n', X.head(), '\\n\\nВыходные данные:\\n\\n', Y.head())"
   ]
  },
  {
   "cell_type": "code",
   "execution_count": 18,
   "metadata": {},
   "outputs": [],
   "source": [
    "# Обучим дерево на всех признаках iris\n",
    "clf = tree.DecisionTreeClassifier()\n",
    "clf = clf.fit(X, Y)"
   ]
  },
  {
   "cell_type": "code",
   "execution_count": 19,
   "metadata": {},
   "outputs": [
    {
     "data": {
      "text/html": [
       "<pre>|--- Age <= 29.50\n",
       "|   |--- Outcome <= 0.50\n",
       "|   |   |--- Age <= 25.50\n",
       "|   |   |   |--- Age <= 24.50\n",
       "|   |   |   |   |--- Age <= 21.50\n",
       "|   |   |   |   |   |--- class: 1\n",
       "|   |   |   |   |--- Age >  21.50\n",
       "|   |   |   |   |   |--- Age <= 22.50\n",
       "|   |   |   |   |   |   |--- class: 1\n",
       "|   |   |   |   |   |--- Age >  22.50\n",
       "|   |   |   |   |   |   |--- Age <= 23.50\n",
       "|   |   |   |   |   |   |   |--- class: 1\n",
       "|   |   |   |   |   |   |--- Age >  23.50\n",
       "|   |   |   |   |   |   |   |--- class: 1\n",
       "|   |   |   |--- Age >  24.50\n",
       "|   |   |   |   |--- class: 2\n",
       "|   |   |--- Age >  25.50\n",
       "|   |   |   |--- Age <= 27.50\n",
       "|   |   |   |   |--- Age <= 26.50\n",
       "|   |   |   |   |   |--- class: 1\n",
       "|   |   |   |   |--- Age >  26.50\n",
       "|   |   |   |   |   |--- class: 2\n",
       "|   |   |   |--- Age >  27.50\n",
       "|   |   |   |   |--- Age <= 28.50\n",
       "|   |   |   |   |   |--- class: 1\n",
       "|   |   |   |   |--- Age >  28.50\n",
       "|   |   |   |   |   |--- class: 1\n",
       "|   |--- Outcome >  0.50\n",
       "|   |   |--- Age <= 26.50\n",
       "|   |   |   |--- Age <= 22.50\n",
       "|   |   |   |   |--- Age <= 21.50\n",
       "|   |   |   |   |   |--- class: 0\n",
       "|   |   |   |   |--- Age >  21.50\n",
       "|   |   |   |   |   |--- class: 0\n",
       "|   |   |   |--- Age >  22.50\n",
       "|   |   |   |   |--- Age <= 23.50\n",
       "|   |   |   |   |   |--- class: 2\n",
       "|   |   |   |   |--- Age >  23.50\n",
       "|   |   |   |   |   |--- Age <= 25.50\n",
       "|   |   |   |   |   |   |--- Age <= 24.50\n",
       "|   |   |   |   |   |   |   |--- class: 0\n",
       "|   |   |   |   |   |   |--- Age >  24.50\n",
       "|   |   |   |   |   |   |   |--- class: 0\n",
       "|   |   |   |   |   |--- Age >  25.50\n",
       "|   |   |   |   |   |   |--- class: 0\n",
       "|   |   |--- Age >  26.50\n",
       "|   |   |   |--- Age <= 28.50\n",
       "|   |   |   |   |--- Age <= 27.50\n",
       "|   |   |   |   |   |--- class: 3\n",
       "|   |   |   |   |--- Age >  27.50\n",
       "|   |   |   |   |   |--- class: 3\n",
       "|   |   |   |--- Age >  28.50\n",
       "|   |   |   |   |--- class: 1\n",
       "|--- Age >  29.50\n",
       "|   |--- Age <= 37.50\n",
       "|   |   |--- Outcome <= 0.50\n",
       "|   |   |   |--- Age <= 36.50\n",
       "|   |   |   |   |--- Age <= 30.50\n",
       "|   |   |   |   |   |--- class: 5\n",
       "|   |   |   |   |--- Age >  30.50\n",
       "|   |   |   |   |   |--- Age <= 32.50\n",
       "|   |   |   |   |   |   |--- Age <= 31.50\n",
       "|   |   |   |   |   |   |   |--- class: 4\n",
       "|   |   |   |   |   |   |--- Age >  31.50\n",
       "|   |   |   |   |   |   |   |--- class: 6\n",
       "|   |   |   |   |   |--- Age >  32.50\n",
       "|   |   |   |   |   |   |--- Age <= 34.50\n",
       "|   |   |   |   |   |   |   |--- Age <= 33.50\n",
       "|   |   |   |   |   |   |   |   |--- class: 4\n",
       "|   |   |   |   |   |   |   |--- Age >  33.50\n",
       "|   |   |   |   |   |   |   |   |--- class: 4\n",
       "|   |   |   |   |   |   |--- Age >  34.50\n",
       "|   |   |   |   |   |   |   |--- Age <= 35.50\n",
       "|   |   |   |   |   |   |   |   |--- class: 11\n",
       "|   |   |   |   |   |   |   |--- Age >  35.50\n",
       "|   |   |   |   |   |   |   |   |--- class: 1\n",
       "|   |   |   |--- Age >  36.50\n",
       "|   |   |   |   |--- class: 4\n",
       "|   |   |--- Outcome >  0.50\n",
       "|   |   |   |--- Age <= 36.50\n",
       "|   |   |   |   |--- Age <= 33.50\n",
       "|   |   |   |   |   |--- Age <= 32.50\n",
       "|   |   |   |   |   |   |--- Age <= 30.50\n",
       "|   |   |   |   |   |   |   |--- class: 0\n",
       "|   |   |   |   |   |   |--- Age >  30.50\n",
       "|   |   |   |   |   |   |   |--- Age <= 31.50\n",
       "|   |   |   |   |   |   |   |   |--- class: 4\n",
       "|   |   |   |   |   |   |   |--- Age >  31.50\n",
       "|   |   |   |   |   |   |   |   |--- class: 7\n",
       "|   |   |   |   |   |--- Age >  32.50\n",
       "|   |   |   |   |   |   |--- class: 1\n",
       "|   |   |   |   |--- Age >  33.50\n",
       "|   |   |   |   |   |--- Age <= 34.50\n",
       "|   |   |   |   |   |   |--- class: 7\n",
       "|   |   |   |   |   |--- Age >  34.50\n",
       "|   |   |   |   |   |   |--- Age <= 35.50\n",
       "|   |   |   |   |   |   |   |--- class: 5\n",
       "|   |   |   |   |   |   |--- Age >  35.50\n",
       "|   |   |   |   |   |   |   |--- class: 3\n",
       "|   |   |   |--- Age >  36.50\n",
       "|   |   |   |   |--- class: 5\n",
       "|   |--- Age >  37.50\n",
       "|   |   |--- Age <= 51.50\n",
       "|   |   |   |--- Age <= 50.50\n",
       "|   |   |   |   |--- Age <= 48.50\n",
       "|   |   |   |   |   |--- Age <= 43.50\n",
       "|   |   |   |   |   |   |--- Age <= 38.50\n",
       "|   |   |   |   |   |   |   |--- Outcome <= 0.50\n",
       "|   |   |   |   |   |   |   |   |--- class: 5\n",
       "|   |   |   |   |   |   |   |--- Outcome >  0.50\n",
       "|   |   |   |   |   |   |   |   |--- class: 1\n",
       "|   |   |   |   |   |   |--- Age >  38.50\n",
       "|   |   |   |   |   |   |   |--- Age <= 39.50\n",
       "|   |   |   |   |   |   |   |   |--- Outcome <= 0.50\n",
       "|   |   |   |   |   |   |   |   |   |--- class: 8\n",
       "|   |   |   |   |   |   |   |   |--- Outcome >  0.50\n",
       "|   |   |   |   |   |   |   |   |   |--- class: 8\n",
       "|   |   |   |   |   |   |   |--- Age >  39.50\n",
       "|   |   |   |   |   |   |   |   |--- Age <= 40.50\n",
       "|   |   |   |   |   |   |   |   |   |--- Outcome <= 0.50\n",
       "|   |   |   |   |   |   |   |   |   |   |--- class: 3\n",
       "|   |   |   |   |   |   |   |   |   |--- Outcome >  0.50\n",
       "|   |   |   |   |   |   |   |   |   |   |--- class: 1\n",
       "|   |   |   |   |   |   |   |   |--- Age >  40.50\n",
       "|   |   |   |   |   |   |   |   |   |--- Age <= 41.50\n",
       "|   |   |   |   |   |   |   |   |   |   |--- Outcome <= 0.50\n",
       "|   |   |   |   |   |   |   |   |   |   |   |--- class: 7\n",
       "|   |   |   |   |   |   |   |   |   |   |--- Outcome >  0.50\n",
       "|   |   |   |   |   |   |   |   |   |   |   |--- class: 7\n",
       "|   |   |   |   |   |   |   |   |   |--- Age >  41.50\n",
       "|   |   |   |   |   |   |   |   |   |   |--- Outcome <= 0.50\n",
       "|   |   |   |   |   |   |   |   |   |   |   |--- truncated branch of depth 2\n",
       "|   |   |   |   |   |   |   |   |   |   |--- Outcome >  0.50\n",
       "|   |   |   |   |   |   |   |   |   |   |   |--- truncated branch of depth 2\n",
       "|   |   |   |   |   |--- Age >  43.50\n",
       "|   |   |   |   |   |   |--- Age <= 44.50\n",
       "|   |   |   |   |   |   |   |--- Outcome <= 0.50\n",
       "|   |   |   |   |   |   |   |   |--- class: 0\n",
       "|   |   |   |   |   |   |   |--- Outcome >  0.50\n",
       "|   |   |   |   |   |   |   |   |--- class: 13\n",
       "|   |   |   |   |   |   |--- Age >  44.50\n",
       "|   |   |   |   |   |   |   |--- Outcome <= 0.50\n",
       "|   |   |   |   |   |   |   |   |--- Age <= 46.50\n",
       "|   |   |   |   |   |   |   |   |   |--- Age <= 45.50\n",
       "|   |   |   |   |   |   |   |   |   |   |--- class: 1\n",
       "|   |   |   |   |   |   |   |   |   |--- Age >  45.50\n",
       "|   |   |   |   |   |   |   |   |   |   |--- class: 0\n",
       "|   |   |   |   |   |   |   |   |--- Age >  46.50\n",
       "|   |   |   |   |   |   |   |   |   |--- Age <= 47.50\n",
       "|   |   |   |   |   |   |   |   |   |   |--- class: 5\n",
       "|   |   |   |   |   |   |   |   |   |--- Age >  47.50\n",
       "|   |   |   |   |   |   |   |   |   |   |--- class: 5\n",
       "|   |   |   |   |   |   |   |--- Outcome >  0.50\n",
       "|   |   |   |   |   |   |   |   |--- Age <= 46.50\n",
       "|   |   |   |   |   |   |   |   |   |--- Age <= 45.50\n",
       "|   |   |   |   |   |   |   |   |   |   |--- class: 9\n",
       "|   |   |   |   |   |   |   |   |   |--- Age >  45.50\n",
       "|   |   |   |   |   |   |   |   |   |   |--- class: 1\n",
       "|   |   |   |   |   |   |   |   |--- Age >  46.50\n",
       "|   |   |   |   |   |   |   |   |   |--- Age <= 47.50\n",
       "|   |   |   |   |   |   |   |   |   |   |--- class: 1\n",
       "|   |   |   |   |   |   |   |   |   |--- Age >  47.50\n",
       "|   |   |   |   |   |   |   |   |   |   |--- class: 11\n",
       "|   |   |   |   |--- Age >  48.50\n",
       "|   |   |   |   |   |--- Outcome <= 0.50\n",
       "|   |   |   |   |   |   |--- Age <= 49.50\n",
       "|   |   |   |   |   |   |   |--- class: 6\n",
       "|   |   |   |   |   |   |--- Age >  49.50\n",
       "|   |   |   |   |   |   |   |--- class: 1\n",
       "|   |   |   |   |   |--- Outcome >  0.50\n",
       "|   |   |   |   |   |   |--- Age <= 49.50\n",
       "|   |   |   |   |   |   |   |--- class: 9\n",
       "|   |   |   |   |   |   |--- Age >  49.50\n",
       "|   |   |   |   |   |   |   |--- class: 6\n",
       "|   |   |   |--- Age >  50.50\n",
       "|   |   |   |   |--- Outcome <= 0.50\n",
       "|   |   |   |   |   |--- class: 7\n",
       "|   |   |   |   |--- Outcome >  0.50\n",
       "|   |   |   |   |   |--- class: 11\n",
       "|   |   |--- Age >  51.50\n",
       "|   |   |   |--- Age <= 53.50\n",
       "|   |   |   |   |--- Age <= 52.50\n",
       "|   |   |   |   |   |--- Outcome <= 0.50\n",
       "|   |   |   |   |   |   |--- class: 13\n",
       "|   |   |   |   |   |--- Outcome >  0.50\n",
       "|   |   |   |   |   |   |--- class: 5\n",
       "|   |   |   |   |--- Age >  52.50\n",
       "|   |   |   |   |   |--- Outcome <= 0.50\n",
       "|   |   |   |   |   |   |--- class: 2\n",
       "|   |   |   |   |   |--- Outcome >  0.50\n",
       "|   |   |   |   |   |   |--- class: 9\n",
       "|   |   |   |--- Age >  53.50\n",
       "|   |   |   |   |--- Age <= 56.50\n",
       "|   |   |   |   |   |--- Age <= 55.50\n",
       "|   |   |   |   |   |   |--- Outcome <= 0.50\n",
       "|   |   |   |   |   |   |   |--- Age <= 54.50\n",
       "|   |   |   |   |   |   |   |   |--- class: 2\n",
       "|   |   |   |   |   |   |   |--- Age >  54.50\n",
       "|   |   |   |   |   |   |   |   |--- class: 6\n",
       "|   |   |   |   |   |   |--- Outcome >  0.50\n",
       "|   |   |   |   |   |   |   |--- Age <= 54.50\n",
       "|   |   |   |   |   |   |   |   |--- class: 6\n",
       "|   |   |   |   |   |   |   |--- Age >  54.50\n",
       "|   |   |   |   |   |   |   |   |--- class: 7\n",
       "|   |   |   |   |   |--- Age >  55.50\n",
       "|   |   |   |   |   |   |--- Outcome <= 0.50\n",
       "|   |   |   |   |   |   |   |--- class: 10\n",
       "|   |   |   |   |   |   |--- Outcome >  0.50\n",
       "|   |   |   |   |   |   |   |--- class: 4\n",
       "|   |   |   |   |--- Age >  56.50\n",
       "|   |   |   |   |   |--- Age <= 58.50\n",
       "|   |   |   |   |   |   |--- Age <= 57.50\n",
       "|   |   |   |   |   |   |   |--- Outcome <= 0.50\n",
       "|   |   |   |   |   |   |   |   |--- class: 5\n",
       "|   |   |   |   |   |   |   |--- Outcome >  0.50\n",
       "|   |   |   |   |   |   |   |   |--- class: 8\n",
       "|   |   |   |   |   |   |--- Age >  57.50\n",
       "|   |   |   |   |   |   |   |--- Outcome <= 0.50\n",
       "|   |   |   |   |   |   |   |   |--- class: 8\n",
       "|   |   |   |   |   |   |   |--- Outcome >  0.50\n",
       "|   |   |   |   |   |   |   |   |--- class: 5\n",
       "|   |   |   |   |   |--- Age >  58.50\n",
       "|   |   |   |   |   |   |--- Outcome <= 0.50\n",
       "|   |   |   |   |   |   |   |--- Age <= 70.50\n",
       "|   |   |   |   |   |   |   |   |--- Age <= 68.50\n",
       "|   |   |   |   |   |   |   |   |   |--- Age <= 66.50\n",
       "|   |   |   |   |   |   |   |   |   |   |--- Age <= 65.50\n",
       "|   |   |   |   |   |   |   |   |   |   |   |--- truncated branch of depth 5\n",
       "|   |   |   |   |   |   |   |   |   |   |--- Age >  65.50\n",
       "|   |   |   |   |   |   |   |   |   |   |   |--- class: 6\n",
       "|   |   |   |   |   |   |   |   |   |--- Age >  66.50\n",
       "|   |   |   |   |   |   |   |   |   |   |--- Age <= 67.50\n",
       "|   |   |   |   |   |   |   |   |   |   |   |--- class: 0\n",
       "|   |   |   |   |   |   |   |   |   |   |--- Age >  67.50\n",
       "|   |   |   |   |   |   |   |   |   |   |   |--- class: 8\n",
       "|   |   |   |   |   |   |   |   |--- Age >  68.50\n",
       "|   |   |   |   |   |   |   |   |   |--- class: 5\n",
       "|   |   |   |   |   |   |   |--- Age >  70.50\n",
       "|   |   |   |   |   |   |   |   |--- Age <= 76.50\n",
       "|   |   |   |   |   |   |   |   |   |--- class: 2\n",
       "|   |   |   |   |   |   |   |   |--- Age >  76.50\n",
       "|   |   |   |   |   |   |   |   |   |--- class: 9\n",
       "|   |   |   |   |   |   |--- Outcome >  0.50\n",
       "|   |   |   |   |   |   |   |--- Age <= 66.50\n",
       "|   |   |   |   |   |   |   |   |--- Age <= 61.50\n",
       "|   |   |   |   |   |   |   |   |   |--- Age <= 59.50\n",
       "|   |   |   |   |   |   |   |   |   |   |--- class: 1\n",
       "|   |   |   |   |   |   |   |   |   |--- Age >  59.50\n",
       "|   |   |   |   |   |   |   |   |   |   |--- Age <= 60.50\n",
       "|   |   |   |   |   |   |   |   |   |   |   |--- class: 4\n",
       "|   |   |   |   |   |   |   |   |   |   |--- Age >  60.50\n",
       "|   |   |   |   |   |   |   |   |   |   |   |--- class: 4\n",
       "|   |   |   |   |   |   |   |   |--- Age >  61.50\n",
       "|   |   |   |   |   |   |   |   |   |--- Age <= 64.00\n",
       "|   |   |   |   |   |   |   |   |   |   |--- class: 0\n",
       "|   |   |   |   |   |   |   |   |   |--- Age >  64.00\n",
       "|   |   |   |   |   |   |   |   |   |   |--- class: 2\n",
       "|   |   |   |   |   |   |   |--- Age >  66.50\n",
       "|   |   |   |   |   |   |   |   |--- class: 4\n",
       "</pre>"
      ],
      "text/plain": [
       "<IPython.core.display.HTML object>"
      ]
     },
     "execution_count": 19,
     "metadata": {},
     "output_type": "execute_result"
    }
   ],
   "source": [
    "from IPython.core.display import HTML\n",
    "from sklearn.tree.export import export_text\n",
    "tree_rules = export_text(clf, feature_names=list(X.columns))\n",
    "HTML('<pre>' + tree_rules + '</pre>')"
   ]
  },
  {
   "cell_type": "code",
   "execution_count": null,
   "metadata": {},
   "outputs": [],
   "source": [
    "tree.plot_tree(clf) "
   ]
  }
 ],
 "metadata": {
  "kernelspec": {
   "display_name": "Python 3",
   "language": "python",
   "name": "python3"
  },
  "language_info": {
   "codemirror_mode": {
    "name": "ipython",
    "version": 3
   },
   "file_extension": ".py",
   "mimetype": "text/x-python",
   "name": "python",
   "nbconvert_exporter": "python",
   "pygments_lexer": "ipython3",
   "version": "3.8.5"
  }
 },
 "nbformat": 4,
 "nbformat_minor": 4
}
